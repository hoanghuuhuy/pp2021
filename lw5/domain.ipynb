{
 "cells": [
  {
   "cell_type": "code",
   "execution_count": 3,
   "id": "2cdb4d35",
   "metadata": {
    "collapsed": true
   },
   "outputs": [
    {
     "ename": "ModuleNotFoundError",
     "evalue": "No module named 'numpy'",
     "output_type": "error",
     "traceback": [
      "\u001b[0;31m---------------------------------------------------------------------------\u001b[0m",
      "\u001b[0;31mModuleNotFoundError\u001b[0m                       Traceback (most recent call last)",
      "\u001b[0;32m<ipython-input-3-310b999bc5a3>\u001b[0m in \u001b[0;36m<module>\u001b[0;34m\u001b[0m\n\u001b[1;32m      1\u001b[0m \u001b[0;32mimport\u001b[0m \u001b[0mmath\u001b[0m\u001b[0;34m\u001b[0m\u001b[0;34m\u001b[0m\u001b[0m\n\u001b[0;32m----> 2\u001b[0;31m \u001b[0;32mimport\u001b[0m \u001b[0mnumpy\u001b[0m \u001b[0;32mas\u001b[0m \u001b[0mnp\u001b[0m\u001b[0;34m\u001b[0m\u001b[0;34m\u001b[0m\u001b[0m\n\u001b[0m\u001b[1;32m      3\u001b[0m \u001b[0;34m\u001b[0m\u001b[0m\n\u001b[1;32m      4\u001b[0m \u001b[0;34m\u001b[0m\u001b[0m\n\u001b[1;32m      5\u001b[0m \u001b[0;32mclass\u001b[0m \u001b[0mStudent\u001b[0m\u001b[0;34m:\u001b[0m\u001b[0;34m\u001b[0m\u001b[0;34m\u001b[0m\u001b[0m\n",
      "\u001b[0;31mModuleNotFoundError\u001b[0m: No module named 'numpy'"
     ]
    }
   ],
   "source": [
    "import math\n",
    "import numpy as np\n",
    "\n",
    "\n",
    "class Student:\n",
    "    def __init__(self, id, name, dob):\n",
    "        self.s_id = id\n",
    "        self.s_name = name\n",
    "        self.DoB = dob\n",
    "        self.gpa = 0\n",
    "        self.marks = np.array([[], [], []])\n",
    "\n",
    "    def get_id(self):\n",
    "        return self.s_id\n",
    "\n",
    "    def get_name(self):\n",
    "        return self.s_name\n",
    "\n",
    "    def get_DoB(self):\n",
    "        return self.Dob\n",
    "\n",
    "    def get_mark(self):\n",
    "        return self.marks\n",
    "\n",
    "    def set_mark(self, course, mark, credit):\n",
    "        self.marks = np.append(self.marks, [[course], [mark], [credit]], axis=1)\n",
    "\n",
    "    def get_gpa(self):\n",
    "        sum_credits = 0\n",
    "        for i in range(len(courses)):\n",
    "            self.gpa += int(self.marks[1][i]) * int(self.marks[2][i])\n",
    "            sum_credits += int(self.marks[2][i])\n",
    "\n",
    "        self.gpa = math.floor((self.gpa/sum_credits) * 10) / 10\n",
    "        return self.gpa\n",
    "\n",
    "    def Student_list(self):\n",
    "        print(\"Student's ID: \" + self.s_id)\n",
    "        print(\"Student's name: \" + self.s_name)\n",
    "        print(\"Student's Date of Birth: \" + self.DoB)\n",
    "        print(\"Student's GPA: \" + str(self.gpa))\n",
    "\n",
    "\n",
    "class Course:\n",
    "    def __init__(self, id, name, credit):\n",
    "        self.c_id = id\n",
    "        self.c_name = name\n",
    "        self.credit = credit\n",
    "\n",
    "    def get_id(self):\n",
    "        return self.c_id\n",
    "\n",
    "    def get_name(self):\n",
    "        return self.c_name\n",
    "\n",
    "    def get_credit(self):\n",
    "        return self.credit\n",
    "\n",
    "    def Course_list(self):\n",
    "        print(\"Course's ID: \" + self.c_id)\n",
    "        print(\"Course's name: \" + self.c_name)\n",
    "        print(\"Course's credit: \" + self.credit)\n"
   ]
  }
 ],
 "metadata": {
  "kernelspec": {
   "display_name": "Python 3",
   "language": "python",
   "name": "python3"
  },
  "language_info": {
   "codemirror_mode": {
    "name": "ipython",
    "version": 3
   },
   "file_extension": ".py",
   "mimetype": "text/x-python",
   "name": "python",
   "nbconvert_exporter": "python",
   "pygments_lexer": "ipython3",
   "version": "3.8.6"
  }
 },
 "nbformat": 4,
 "nbformat_minor": 5
}
