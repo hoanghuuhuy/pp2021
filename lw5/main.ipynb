{
 "cells": [
  {
   "cell_type": "code",
   "execution_count": 3,
   "id": "2cdb4d35",
   "metadata": {
    "collapsed": true
   },
   "outputs": [
    {
     "ename": "ModuleNotFoundError",
     "evalue": "No module named 'numpy'",
     "output_type": "error",
     "traceback": [
      "\u001b[0;31m---------------------------------------------------------------------------\u001b[0m",
      "\u001b[0;31mModuleNotFoundError\u001b[0m                       Traceback (most recent call last)",
      "\u001b[0;32m<ipython-input-3-310b999bc5a3>\u001b[0m in \u001b[0;36m<module>\u001b[0;34m\u001b[0m\n\u001b[1;32m      1\u001b[0m \u001b[0;32mimport\u001b[0m \u001b[0mmath\u001b[0m\u001b[0;34m\u001b[0m\u001b[0;34m\u001b[0m\u001b[0m\n\u001b[0;32m----> 2\u001b[0;31m \u001b[0;32mimport\u001b[0m \u001b[0mnumpy\u001b[0m \u001b[0;32mas\u001b[0m \u001b[0mnp\u001b[0m\u001b[0;34m\u001b[0m\u001b[0;34m\u001b[0m\u001b[0m\n\u001b[0m\u001b[1;32m      3\u001b[0m \u001b[0;34m\u001b[0m\u001b[0m\n\u001b[1;32m      4\u001b[0m \u001b[0;34m\u001b[0m\u001b[0m\n\u001b[1;32m      5\u001b[0m \u001b[0;32mclass\u001b[0m \u001b[0mStudent\u001b[0m\u001b[0;34m:\u001b[0m\u001b[0;34m\u001b[0m\u001b[0;34m\u001b[0m\u001b[0m\n",
      "\u001b[0;31mModuleNotFoundError\u001b[0m: No module named 'numpy'"
     ]
    }
   ],
   "source": [
    "import domains\n",
    "from domains import *\n",
    "import input\n",
    "from input import * \n",
    "    \n",
    "def main():\n",
    "        \n",
    "if __name__ == \"__main__\":\n",
    "    s_number = CountStudent()\n",
    "    for i in range(0, s_number):\n",
    "        s_id, s_name, DoB = student_detail()\n",
    "        students.append(Student(s_id, s_name, DoB))\n",
    "\n",
    "    c_number = CountCourse()\n",
    "    for i in range(0, c_number):\n",
    "        c_id, c_name, credit = course_detail()\n",
    "        courses.append(Course(c_id, c_name, credit))\n",
    "\n",
    "    x = '1'\n",
    "    while x == '1':\n",
    "        choose_course_id = input(\"Select a course ID: \")\n",
    "        choose_course = Add_mark(courses, choose_course_id)\n",
    "        choose_credit = Credit(courses, choose_course_id)\n",
    "        print(\"Course name: \" + choose_course + \"\\n\")\n",
    "        for student in students:\n",
    "            mark = input(\"Enter \" + student.s_name + \"'s mark: \")\n",
    "            student.set_mark(choose_course, mark, choose_credit)\n",
    "        x = input(\"Do you want to add mark in another course? (1:yes/0:no): \")"
   ]
  }
 ],
 "metadata": {
  "kernelspec": {
   "display_name": "Python 3",
   "language": "python",
   "name": "python3"
  },
  "language_info": {
   "codemirror_mode": {
    "name": "ipython",
    "version": 3
   },
   "file_extension": ".py",
   "mimetype": "text/x-python",
   "name": "python",
   "nbconvert_exporter": "python",
   "pygments_lexer": "ipython3",
   "version": "3.8.6"
  }
 },
 "nbformat": 4,
 "nbformat_minor": 5
}
