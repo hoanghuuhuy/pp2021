{
 "cells": [
  {
   "cell_type": "code",
   "execution_count": 3,
   "id": "2cdb4d35",
   "metadata": {
    "collapsed": true
   },
   "outputs": [
    {
     "ename": "ModuleNotFoundError",
     "evalue": "No module named 'numpy'",
     "output_type": "error",
     "traceback": [
      "\u001b[0;31m---------------------------------------------------------------------------\u001b[0m",
      "\u001b[0;31mModuleNotFoundError\u001b[0m                       Traceback (most recent call last)",
      "\u001b[0;32m<ipython-input-3-310b999bc5a3>\u001b[0m in \u001b[0;36m<module>\u001b[0;34m\u001b[0m\n\u001b[1;32m      1\u001b[0m \u001b[0;32mimport\u001b[0m \u001b[0mmath\u001b[0m\u001b[0;34m\u001b[0m\u001b[0;34m\u001b[0m\u001b[0m\n\u001b[0;32m----> 2\u001b[0;31m \u001b[0;32mimport\u001b[0m \u001b[0mnumpy\u001b[0m \u001b[0;32mas\u001b[0m \u001b[0mnp\u001b[0m\u001b[0;34m\u001b[0m\u001b[0;34m\u001b[0m\u001b[0m\n\u001b[0m\u001b[1;32m      3\u001b[0m \u001b[0;34m\u001b[0m\u001b[0m\n\u001b[1;32m      4\u001b[0m \u001b[0;34m\u001b[0m\u001b[0m\n\u001b[1;32m      5\u001b[0m \u001b[0;32mclass\u001b[0m \u001b[0mStudent\u001b[0m\u001b[0;34m:\u001b[0m\u001b[0;34m\u001b[0m\u001b[0;34m\u001b[0m\u001b[0m\n",
      "\u001b[0;31mModuleNotFoundError\u001b[0m: No module named 'numpy'"
     ]
    }
   ],
   "source": [
    "from domains import *\n",
    "\n",
    "def CountStudent():\n",
    "    count = int(input(\"How many students are there: \"))\n",
    "    return count\n",
    "\n",
    "def student_detail():\n",
    "    s_id = input(\"ID: \")\n",
    "    s_name = input(\"Name: \")\n",
    "    DoB = input(\"Date of birth: \")\n",
    "    return s_id, s_name, DoB\n",
    "\n",
    "def CountCourse():\n",
    "    count = int(input(\"How many courses are there: \"))\n",
    "    return count\n",
    "\n",
    "def course_detail():\n",
    "    c_id = input(\"ID: \")\n",
    "    c_name = input(\"Name: \")\n",
    "    credit = input(\"Credit: \")\n",
    "    return c_id, c_name, credit\n",
    "\n",
    "def Credit(courses, c_id):\n",
    "    for course in courses:\n",
    "        course.get_id() == c_id\n",
    "        return course.get_credit()\n",
    "\n",
    "def Add_mark(courses, c_id):\n",
    "    for course in courses:\n",
    "        course.get_id() == c_id\n",
    "        return course.get_name()\n",
    "    "
   ]
  }
 ],
 "metadata": {
  "kernelspec": {
   "display_name": "Python 3",
   "language": "python",
   "name": "python3"
  },
  "language_info": {
   "codemirror_mode": {
    "name": "ipython",
    "version": 3
   },
   "file_extension": ".py",
   "mimetype": "text/x-python",
   "name": "python",
   "nbconvert_exporter": "python",
   "pygments_lexer": "ipython3",
   "version": "3.8.6"
  }
 },
 "nbformat": 4,
 "nbformat_minor": 5
}
